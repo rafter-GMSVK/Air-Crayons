{
 "cells": [
  {
   "cell_type": "markdown",
   "metadata": {},
   "source": [
    "AIR CRAYONS\n"
   ]
  },
  {
   "cell_type": "code",
   "execution_count": 1,
   "metadata": {},
   "outputs": [
    {
     "name": "stdout",
     "output_type": "stream",
     "text": [
      "pygame 1.9.6\n",
      "Hello from the pygame community. https://www.pygame.org/contribute.html\n"
     ]
    }
   ],
   "source": [
    "import cv2\n",
    "import numpy as np\n",
    "from tkinter import *\n",
    "from tkinter import messagebox\n",
    "import pygame\n",
    "import mysql.connector as mysql\n",
    "import re\n",
    "import functools"
   ]
  },
  {
   "cell_type": "code",
   "execution_count": 2,
   "metadata": {},
   "outputs": [],
   "source": [
    "myPoints = []\n",
    "pen= [18, 81, 146, 39, 222, 255]\n",
    "Eraser = [63, 100, 109, 86, 202, 255]"
   ]
  },
  {
   "cell_type": "code",
   "execution_count": 3,
   "metadata": {},
   "outputs": [],
   "source": [
    "db = mysql.connect(\n",
    "        host=\"localhost\",\n",
    "        user =\"root\",\n",
    "        passwd=\"AumShanthi01\"\n",
    "        )\n",
    "        \n",
    "cursor = db.cursor(buffered=True)"
   ]
  },
  {
   "cell_type": "code",
   "execution_count": 4,
   "metadata": {},
   "outputs": [],
   "source": [
    "cursor.execute(\"USE ac\")"
   ]
  },
  {
   "cell_type": "code",
   "execution_count": 5,
   "metadata": {},
   "outputs": [],
   "source": [
    "def find(uid):\n",
    "        q = \"select Username,Password from user where Username ='\"+str(uid)+\"'\"\n",
    "        cursor.execute(q)\n",
    "        return (cursor.fetchall())\n",
    "        "
   ]
  },
  {
   "cell_type": "code",
   "execution_count": 6,
   "metadata": {},
   "outputs": [],
   "source": [
    "def add(Username,Password,Name,Phone,Email):\n",
    "    try:\n",
    "        query = \"INSERT INTO user(Username,Password,Name,Phone,Email) VALUES(%s,%s,%s,%s,%s)\"\n",
    "        values = (Username,Password,Name,Phone,Email)\n",
    "        cursor.execute(query,values)\n",
    "        db.commit()\n",
    "        dashboard(Username)\n",
    "    except:\n",
    "        messagebox.showinfo(\"Error\",\"User already Exist\")"
   ]
  },
  {
   "cell_type": "code",
   "execution_count": 7,
   "metadata": {},
   "outputs": [
    {
     "name": "stdout",
     "output_type": "stream",
     "text": [
      "[('P_id', 'int', 'NO', 'PRI', None, 'auto_increment'), ('P_Name', 'varchar(30)', 'YES', '', None, ''), ('admin', 'varchar(30)', 'YES', '', None, ''), ('points', 'blob', 'YES', '', None, '')]\n"
     ]
    }
   ],
   "source": [
    "#cursor.execute(\"ALTER TABLE project myPointspoints varchar(255)\"\n",
    "cursor.execute(\"desc project\")\n",
    "print(cursor.fetchall())"
   ]
  },
  {
   "cell_type": "code",
   "execution_count": 8,
   "metadata": {},
   "outputs": [],
   "source": [
    "def add(myPoints,name,Username):\n",
    "    myPoints = str(myPoints)\n",
    "    query = \"INSERT INTO project(P_name,admin,Points) VALUES(%s,%s,%s)\"\n",
    "    values = (name,Username,myPoints)\n",
    "    cursor.execute(query,values)\n",
    "    db.commit()\n",
    "    dashboard(Username)\n",
    "    #messagebox.showinfo(\"Error\",\"Something went wrong\")"
   ]
  },
  {
   "cell_type": "code",
   "execution_count": 9,
   "metadata": {},
   "outputs": [],
   "source": [
    "def addProject(myPoints,Username):\n",
    "    root = Tk()\n",
    "    root.title(\"Save\")\n",
    "    root.geometry(\"500x300\")\n",
    "    \n",
    "    Label2 = Label(root,text=\"Save As\",font=(\"Helvetica\",16,))\n",
    "    Label2.place(x=0,y=0)\n",
    "    \n",
    "    Label1 = Label(root,text=\"Project Name :\",font=(\"Helvetica\",12))\n",
    "    Label1.place(x=100,y=50)\n",
    "    \n",
    "    Entry1 = Entry(root,width=40)\n",
    "    Entry1.place(x=220,y=55)\n",
    "    \n",
    "    Button1 = Button(root,text=\"save\",width=20,command= lambda: add(myPoints,Entry1.get(),Username))\n",
    "    Button1.place(x=220,y=90)\n",
    "    \n",
    "    root.mainloop()\n"
   ]
  },
  {
   "cell_type": "code",
   "execution_count": 10,
   "metadata": {},
   "outputs": [],
   "source": [
    "def check(Username,Password):\n",
    "    a = find(Username)\n",
    "    try:\n",
    "        if Password == a[0][1]:\n",
    "            dashboard(Username)\n",
    "    except IndexError:\n",
    "        messagebox.showinfo(\"Error\",\"No user: \"+str(Username))\n",
    "        "
   ]
  },
  {
   "cell_type": "code",
   "execution_count": null,
   "metadata": {},
   "outputs": [],
   "source": []
  },
  {
   "cell_type": "code",
   "execution_count": 11,
   "metadata": {},
   "outputs": [],
   "source": [
    "#cursor.execute(\"USE ac\")\n",
    "#cursor.execute(\"CREATE TABLE user(User_id INT(5) NOT NULL AUTO_INCREMENT PRIMARY KEY,Username varchar(30) UNIQUE,Password varchar(30),Name varchar(30),Phone varchar(30),Email varchar(30))\")\n",
    "#cursor.execute(\"CREATE TABLE project(P_id INT(5) NOT NULL AUTO_INCREMENT PRIMARY KEY,P_Name varchar(30),admin varchar(30),points blob)\")\n",
    "#cursor.execute(\"CREATE TABLE Makes(User_id INT(5),P_id INT(5), constraint p1 primary key(User_id,P_id),constraint f1 foreign key(User_id) references user(User_id) on delete cascade on update cascade, constraint f2 foreign key(P_id) references project(P_id) on delete cascade on update cascade)\")\n",
    "#query = \"select * from user where User_id =\"+str(1)\n",
    "#values = (1)\n",
    "#c = cursor.execute(query)\n",
    "#db.commit()\n"
   ]
  },
  {
   "cell_type": "code",
   "execution_count": 12,
   "metadata": {},
   "outputs": [
    {
     "name": "stdout",
     "output_type": "stream",
     "text": [
      "[(1, 'goutam', 'goutam', 'Goutam', '8296564044', 'shanbhagji@gmail.com')]\n"
     ]
    }
   ],
   "source": [
    "cursor.execute(\"use ac\")\n",
    "cursor.execute(\"select * from user where Username='goutam'\")\n",
    "print(cursor.fetchall())"
   ]
  },
  {
   "cell_type": "code",
   "execution_count": 13,
   "metadata": {},
   "outputs": [],
   "source": [
    "def get_project(username):\n",
    "    cursor.execute(\"select * from project where admin ='\"+username+\"'\")\n",
    "    a = cursor.fetchall()\n",
    "    return a\n",
    "\n",
    "def clean(a):\n",
    "    while len(a)>2:\n",
    "        a.pop(-1)\n",
    "    return a\n",
    "\n",
    "def regrexx(c):\n",
    "    #print(c)\n",
    "    mypoints_input = []\n",
    "    color = c\n",
    "    for c in color:\n",
    "        a = re.findall(\"\\d+\\d\",c)\n",
    "        b = re.findall(\"\\((.*?)\\)\",c)\n",
    "        b = b[0].split(\",\")\n",
    "        c = [int(i) for i in a]\n",
    "        b = list(int(i) for i in b)\n",
    "        b = tuple(b[::-1])\n",
    "        c = tuple(clean(c))\n",
    "        mypoints_input.append([c,b])\n",
    "    return mypoints_input\n",
    "\n",
    "def load(username):\n",
    "    final_project = []\n",
    "    projects = get_project(username)\n",
    "    for p in projects:\n",
    "        p = list(p)\n",
    "        color = re.findall(\"\\[(.*?)\\]\",p[3])\n",
    "        p[3] = regrexx(color)\n",
    "        final_project.append(p)\n",
    "        print(final_project)\n",
    "    return final_project\n",
    "\n",
    "def Drawcan(points):\n",
    "    pygame.init()\n",
    "    win = pygame.display.set_mode((500,500))\n",
    "    pygame.display.set_caption(\"Air Crayons\")\n",
    "    \n",
    "    \n",
    "    run = True\n",
    "    while run:\n",
    "        for event in pygame.event.get():\n",
    "            if event.type == pygame.QUIT:\n",
    "                run = False\n",
    "        \n",
    "        win.fill([255,255,255])\n",
    "        for p in points:\n",
    "            pygame.draw.circle(win,p[1],(500-p[0][0],p[0][1]),10)\n",
    "        pygame.display.update()\n",
    "        \n",
    "    pygame.quit()"
   ]
  },
  {
   "cell_type": "code",
   "execution_count": 14,
   "metadata": {},
   "outputs": [],
   "source": [
    "def Myprojects(username):\n",
    "    def _on_mousewheel(event):\n",
    "        #print(-1*(event.delta/120))\n",
    "        canvas_container.yview_scroll(int(-1*(event.delta/120)),\"units\")\n",
    "    \n",
    "    root = Tk()\n",
    "    root.geometry(\"1000x1000\")\n",
    "    root.configure(background='black')\n",
    "\n",
    "    frame_container=Frame(root,width=1000,height=1000,bg=\"black\")\n",
    "    \n",
    "    canvas_container=Canvas(frame_container, height=1000,width=300,bg=\"black\")\n",
    "    frame2=Frame(canvas_container,bg=\"black\")\n",
    "    myscrollbar=Scrollbar(frame_container,orient=\"vertical\",command=canvas_container.yview,width=5) # will be visible if the frame2 is to to big for the canvas\n",
    "    canvas_container.bind_all('<MouseWheel>',_on_mousewheel)\n",
    "    canvas_container.create_window((0,0),window=frame2,anchor='w')\n",
    "    \n",
    "    Details = Label(root,width=76,height=50,font=(\"Helvetica\", 12),anchor='nw')\n",
    "    Details.place(x=310,y=0)\n",
    "    \n",
    "\n",
    "    def func(name,username):\n",
    "        #Details.config(text=name[1]+\"\\n\\n\"+name[2])\n",
    "        #Button2 = Button(Details,text=\"Join Team\",width=20,height=2,bd=2,command=lambda:join_team(name[0],username))\n",
    "        #Button2.place(relx=0.75,rely=0.9)\n",
    "        print (name)\n",
    "    mylist = load(username)\n",
    "        #(p_name,disc)\n",
    "    #mylist = ['item1','item2','item3','item4','item5','item6','item7','item8','item9','item1','item2','item3','item4','item5','item6','item7','item8','item9','item1','item2','item3','item4','item5','item6','item7','item8','item9',\n",
    "    #         'item1','item2','item3','item4','item5','item6','item7','item8','item9','item1','item2','item3','item4','item5','item6','item7','item8','item9','item1','item2','item3','item4','item5','item6','item7','item8','item9']\n",
    "    for item in mylist:\n",
    "        button = Button(frame2,text=item[1],command=functools.partial(Drawcan,item[3]),height=5,width=30,bd=2,bg=\"black\",fg=\"white\",font=(\"Helvetica\", 12))\n",
    "        button.pack()\n",
    "\n",
    "\n",
    "    frame2.update() # update frame2 height so it's no longer 0 ( height is 0 when it has just been created )\n",
    "    canvas_container.configure(yscrollcommand=myscrollbar.set, scrollregion=\"0 0 0 %s\" % frame2.winfo_height()) # the scrollregion mustbe the size of the frame inside it,\n",
    "                                                                                                                #in this case \"x=0 y=0 width=0 height=frame2height\"\n",
    "                                                                                                                #width 0 because we only scroll verticaly so don't mind about the width.\n",
    "\n",
    "    canvas_container.pack(side=LEFT)\n",
    "    myscrollbar.pack(side=RIGHT, fill = Y)\n",
    "\n",
    "    frame_container.grid(row=0,column=0)\n",
    "    \n",
    "    root.mainloop()"
   ]
  },
  {
   "cell_type": "code",
   "execution_count": 15,
   "metadata": {},
   "outputs": [],
   "source": [
    "def tools():\n",
    "    global pen\n",
    "    pen = ToolRecognition()"
   ]
  },
  {
   "cell_type": "code",
   "execution_count": 16,
   "metadata": {},
   "outputs": [],
   "source": [
    "def empty_function(a):\n",
    "    pass\n",
    "\n",
    "\n",
    "def ToolRecognition():\n",
    "    global pen\n",
    "    global Eraser\n",
    "    cap = cv2.VideoCapture(0)\n",
    "    cap.set(3,500)\n",
    "    cap.set(4,500)\n",
    "    cap.set(10,150)\n",
    "    \n",
    "    cv2.namedWindow(\"findcolour\")\n",
    "    cv2.resizeWindow(\"findcolur\",1000,1000)\n",
    "    cv2.createTrackbar(\"H_min\",\"findcolour\",0,178,empty_function)\n",
    "    cv2.createTrackbar(\"H_max\",\"findcolour\",178,178,empty_function)\n",
    "    cv2.createTrackbar(\"S_min\",\"findcolour\",0,255,empty_function)\n",
    "    cv2.createTrackbar(\"S_max\",\"findcolour\",255,255,empty_function)\n",
    "    cv2.createTrackbar(\"V_min\",\"findcolour\",0,255,empty_function)\n",
    "    cv2.createTrackbar(\"V_max\",\"findcolour\",255,255,empty_function)\n",
    "    \n",
    "    while True:\n",
    "        success,img = cap.read()\n",
    "        hsvimg = cv2.cvtColor(img,cv2.COLOR_BGR2HSV)\n",
    "        h_min = cv2.getTrackbarPos(\"H_min\",\"findcolour\")\n",
    "        h_max = cv2.getTrackbarPos(\"H_max\",\"findcolour\")\n",
    "        s_min = cv2.getTrackbarPos(\"S_min\",\"findcolour\")\n",
    "        s_max = cv2.getTrackbarPos(\"S_max\",\"findcolour\")\n",
    "        v_min = cv2.getTrackbarPos(\"V_min\",\"findcolour\")\n",
    "        v_max = cv2.getTrackbarPos(\"V_max\",\"findcolour\")\n",
    "        lower = np.array([h_min,s_min,v_min])\n",
    "        upper = np.array([h_max,s_max,v_max])\n",
    "        \n",
    "        mask = cv2.inRange(hsvimg,lower,upper)\n",
    "        \n",
    "        Result = cv2.bitwise_and(img,img,mask=mask)\n",
    "        \n",
    "        cv2.imshow(\"img\",img)\n",
    "        cv2.imshow(\"HSV\",hsvimg)\n",
    "        cv2.imshow(\"mask\",mask)\n",
    "        cv2.imshow(\"result\",Result)\n",
    "        \n",
    "        if cv2.waitKey(1) & 0xFF == ord('q'):\n",
    "            cap.release()\n",
    "            cv2.destroyAllWindows()\n",
    "            return [h_min,s_min,v_min,h_max,s_max,v_max]\n",
    "            break\n",
    "\n",
    "def getcontors(img,color):\n",
    "    x,y,w,h=0,0,0,0\n",
    "    newpoints = []\n",
    "    imgHSV = cv2.cvtColor(img,cv2.COLOR_BGR2HSV)\n",
    "    lower = np.array(pen[0:3])\n",
    "    upper = np.array(pen[3:6])\n",
    "    mask = cv2.inRange(imgHSV,lower,upper)\n",
    "    cv2.imshow(\"mask\",mask)\n",
    "    contours, hierachy = cv2.findContours(mask,cv2.RETR_EXTERNAL,cv2.CHAIN_APPROX_NONE)\n",
    "    for con in contours:\n",
    "        area = cv2.contourArea(con)\n",
    "        if area > 500:\n",
    "            peri = cv2.arcLength(con,True)\n",
    "            approx = cv2.approxPolyDP(con,0.02*peri,True)\n",
    "            x,y,w,h = cv2.boundingRect(approx)\n",
    "            x,y = x+w//2,y\n",
    "            if x!=0 and y!=0:\n",
    "                newpoints.append([x,y,'*',color])\n",
    "    return newpoints\n",
    "\n",
    "def removepoints(img,points):\n",
    "    removePoints = []\n",
    "    x,y,w,h = 0,0,0,0\n",
    "    imgHSV = cv2.cvtColor(img,cv2.COLOR_BGR2HSV)\n",
    "    lower = np.array(Eraser[0:3])\n",
    "    upper = np.array(Eraser[3:6])\n",
    "    mask = cv2.inRange(imgHSV,lower,upper)\n",
    "    contours, hierachy = cv2.findContours(mask,cv2.RETR_EXTERNAL,cv2.CHAIN_APPROX_NONE)\n",
    "    for con in contours:\n",
    "        area = cv2.contourArea(con)\n",
    "        if area > 500:\n",
    "            peri = cv2.arcLength(con,True)\n",
    "            approx = cv2.approxPolyDP(con,0.02*peri,True)\n",
    "            x,y,w,h = cv2.boundingRect(approx)\n",
    "            x,y = x+w//2,y\n",
    "            if x!=0 and y!=0:\n",
    "                removePoints.append((x,y))\n",
    "    return removePoints"
   ]
  },
  {
   "cell_type": "code",
   "execution_count": 17,
   "metadata": {},
   "outputs": [],
   "source": [
    "def draw(myPoints,color,imgnew):\n",
    "    for point in myPoints:\n",
    "        cv2.circle(imgnew,(point[0],point[1]),10,point[3],cv2.FILLED)\n",
    "\n",
    "def drawsomething(Username):\n",
    "    myPoints = []\n",
    "    remove = []\n",
    "    cam = cv2.VideoCapture(0)\n",
    "    HEIGHT = 700\n",
    "    WIDTH = 480\n",
    "    cam.set(3,HEIGHT)\n",
    "    cam.set(4,WIDTH)\n",
    "    cam.set(10,150)\n",
    "\n",
    "    #creating the slider\n",
    "    cv2.namedWindow(\"findcolour\")\n",
    "    cv2.resizeWindow(\"findcolur\",1000,1000)\n",
    "    cv2.createTrackbar(\"R\",\"findcolour\",0,255,empty_function)\n",
    "    cv2.createTrackbar(\"G\",\"findcolour\",0,255,empty_function)\n",
    "    cv2.createTrackbar(\"B\",\"findcolour\",0,255,empty_function)\n",
    "    cv2.createTrackbar(\"Font\",\"findcolour\",0,10,empty_function)\n",
    "    while True:\n",
    "        _, img = cam.read()\n",
    "        imgnew = img.copy()\n",
    "        cv2.imshow(\"img\",img)\n",
    "        R = cv2.getTrackbarPos(\"R\",\"findcolour\")\n",
    "        G = cv2.getTrackbarPos(\"G\",\"findcolour\")\n",
    "        B = cv2.getTrackbarPos(\"B\",\"findcolour\")\n",
    "        font = cv2.getTrackbarPos(\"Font\",\"findcolur\")\n",
    "        newPoints = getcontors(img,(B,G,R))\n",
    "        #remove = removepoints(img,myPoints)\n",
    "        if len(newPoints)!=0:\n",
    "            myPoints.extend(newPoints)\n",
    "        if len(myPoints)>0:\n",
    "            draw(myPoints,(B,G,R),imgnew)\n",
    "        imgnew = cv2.flip(imgnew,1)\n",
    "        cv2.imshow(\"Result\",imgnew)\n",
    "        if cv2.waitKey(1) & 0xFF == ord('q'):\n",
    "            cv2.destroyAllWindows()\n",
    "            a = messagebox.askquestion(\"Save\",\"Save your work ?\")\n",
    "            print(len(myPoints))\n",
    "            if a ==\"yes\":\n",
    "                addProject(myPoints,Username)\n",
    "            #cv2.destroyAllWindows()\n",
    "            break"
   ]
  },
  {
   "cell_type": "code",
   "execution_count": null,
   "metadata": {},
   "outputs": [],
   "source": []
  },
  {
   "cell_type": "code",
   "execution_count": 18,
   "metadata": {},
   "outputs": [],
   "source": [
    "def dashboard(username):\n",
    "    \n",
    "    Length = 800\n",
    "    Breadth = 800\n",
    "    root = Tk()\n",
    "    root.geometry(\"800x800\")\n",
    "    root.title(\"Air Crayons\")\n",
    "\n",
    "    canvas = Canvas(root, height=Length,width=Breadth,bg=\"black\")\n",
    "    canvas.place(x=0,y=0,relx=0,rely=0)\n",
    "\n",
    "    Main_frame = Frame(canvas,bg=\"#14b0b5\")\n",
    "    Main_frame.place(relx=0.08,rely=0.08,relwidth=0.85,relheight=0.85)\n",
    "\n",
    "    pen_msg = \"Pen not Selected\"\n",
    "    Eraser_msg =\"Eraser not Selected\"\n",
    "    if len(pen)!=0:\n",
    "        pen_msg = \"Pen :\" +str(pen)\n",
    "    if len(Eraser)!=0:\n",
    "        Eraser_msg = \"Eraser :\"+str(Eraser)\n",
    "\n",
    "    Label1 = Label(Main_frame,text=pen_msg,bg=\"#14b0b5\")\n",
    "    Label1.place(x=400,y=10)\n",
    "\n",
    "    Label2 = Label(Main_frame,text=Eraser_msg,bg=\"#14b0b5\")\n",
    "    Label2.place(x=400,y=40)\n",
    "\n",
    "    Button1 = Button(Main_frame,text=\"Air Crayons\",command = lambda:drawsomething(username),font=(\"helvatica\",15))\n",
    "    Button1.place(x=200,y=150)\n",
    "\n",
    "    Button2 = Button(Main_frame,text=\"Add Tools\",command=tools,font=(\"helvatica\",15))\n",
    "    Button2.place(x=350,y=150)\n",
    "\n",
    "    Button3 = Button(Main_frame,text =\"Canvas\",command =Drawcan,font=(\"helvatica\",15))\n",
    "    Button3.place(x=200, y = 250)\n",
    "    \n",
    "    Button4 = Button(Main_frame,text=\"My Projects\",command=lambda:Myprojects(username),font=(\"helvatica\",15))\n",
    "    Button4.place(x=350,y=250)\n",
    "\n",
    "    #print(d)\n",
    "    root.mainloop()"
   ]
  },
  {
   "cell_type": "code",
   "execution_count": 19,
   "metadata": {},
   "outputs": [],
   "source": [
    "def Signin():\n",
    "    \n",
    "    root = Tk()\n",
    "    root.title(\"Sign In\")\n",
    "    root.geometry(\"500x500\")\n",
    "\n",
    "    Label3 = Label(root,text=\"Log In\",font=(\"Helvetica\",16))\n",
    "    Label3.place(x=220,y=30)\n",
    "    \n",
    "    Label4 = Label(root,text=\"Username :\",font=(\"Helvetica\",12))\n",
    "    Label4.place(x=150,y=90)\n",
    "    \n",
    "    Label5 = Label(root,text=\"Password :\",font=(\"Helvetica\",12))\n",
    "    Label5.place(x=150,y=120)\n",
    "    \n",
    "    Entry1 = Entry(root)\n",
    "    Entry1.place(x=240,y=95)\n",
    "    \n",
    "    Entry2 = Entry(root,show=\"*\")\n",
    "    Entry2.place(x=240,y=125)\n",
    "    \n",
    "    Button1 = Button(root,text=\"Log in\",width=10,command= lambda:check(Entry1.get(),Entry2.get()),font=(\"helvatica\",15))\n",
    "    Button1.place(x=240,y=150)\n",
    "    \n",
    "    root.mainloop()"
   ]
  },
  {
   "cell_type": "code",
   "execution_count": 20,
   "metadata": {},
   "outputs": [
    {
     "name": "stdout",
     "output_type": "stream",
     "text": [
      "986\n",
      "1139\n",
      "1617\n"
     ]
    }
   ],
   "source": [
    "def Createaccount():\n",
    "    \n",
    "    root = Tk()\n",
    "    root.title(\"Sign In\")\n",
    "    root.geometry(\"500x500\")\n",
    "    \n",
    "    \n",
    "    Label3 = Label(root,text=\"Create Account\",font=(\"Helvetica\",16))\n",
    "    Label3.place(x=220,y=30)\n",
    "    \n",
    "    Label4 = Label(root,text=\"Username :\",font=(\"Helvetica\",12))\n",
    "    Label4.place(x=150,y=90)\n",
    "    \n",
    "    Label5 = Label(root,text=\"Password :\",font=(\"Helvetica\",12))\n",
    "    Label5.place(x=150,y=120)\n",
    "    \n",
    "    Label6 = Label(root,text=\"Name :\",font=(\"Helvetica\",12))\n",
    "    Label6.place(x=150,y=150)\n",
    "    \n",
    "    Label7 = Label(root,text=\"Phone :\",font=(\"Helvetica\",12))\n",
    "    Label7.place(x=150,y=180)\n",
    "    \n",
    "    Label8 = Label(root,text=\"Email :\",font=(\"Helvetica\",12))\n",
    "    Label8.place(x=150,y=210)\n",
    "    \n",
    "    E1 = Entry(root)\n",
    "    E1.place(x=240,y=95,height=20)\n",
    "    \n",
    "    E2 = Entry(root,show=\"*\")\n",
    "    E2.place(x=240,y=125)\n",
    "    \n",
    "    E3 = Entry(root)\n",
    "    E3.place(x=240,y=155,height=20)\n",
    "    \n",
    "    E4 = Entry(root)\n",
    "    E4.place(x=240,y=185,height=20)\n",
    "    \n",
    "    E5 = Entry(root)\n",
    "    E5.place(x=240,y=215,height=20)\n",
    "    \n",
    "    \n",
    "    Button1 = Button(root,text=\"Sign up\",width=10,command=lambda:[add(E1.get(),E2.get(),E3.get(),E4.get(),E5.get()),],font=(\"helvatica\",15))\n",
    "    Button1.place(x=240,y=250)\n",
    "    \n",
    "    Button3 = Button(root,text=\"Log in\",width=10,command=Signin,font=(\"helvatica\",15))\n",
    "    Button3.place(x=368,y=60)\n",
    "    \n",
    "    root.mainloop()\n",
    "      \n",
    "\n",
    "Createaccount()"
   ]
  },
  {
   "cell_type": "code",
   "execution_count": null,
   "metadata": {},
   "outputs": [],
   "source": []
  },
  {
   "cell_type": "code",
   "execution_count": null,
   "metadata": {},
   "outputs": [],
   "source": []
  },
  {
   "cell_type": "code",
   "execution_count": null,
   "metadata": {},
   "outputs": [],
   "source": []
  },
  {
   "cell_type": "code",
   "execution_count": null,
   "metadata": {},
   "outputs": [],
   "source": []
  },
  {
   "cell_type": "code",
   "execution_count": 67,
   "metadata": {},
   "outputs": [],
   "source": []
  },
  {
   "cell_type": "code",
   "execution_count": null,
   "metadata": {},
   "outputs": [],
   "source": []
  },
  {
   "cell_type": "code",
   "execution_count": null,
   "metadata": {},
   "outputs": [],
   "source": []
  },
  {
   "cell_type": "code",
   "execution_count": null,
   "metadata": {},
   "outputs": [],
   "source": []
  },
  {
   "cell_type": "code",
   "execution_count": null,
   "metadata": {},
   "outputs": [],
   "source": []
  },
  {
   "cell_type": "code",
   "execution_count": null,
   "metadata": {},
   "outputs": [],
   "source": []
  },
  {
   "cell_type": "code",
   "execution_count": null,
   "metadata": {},
   "outputs": [],
   "source": []
  },
  {
   "cell_type": "code",
   "execution_count": null,
   "metadata": {},
   "outputs": [],
   "source": []
  },
  {
   "cell_type": "code",
   "execution_count": null,
   "metadata": {},
   "outputs": [],
   "source": []
  },
  {
   "cell_type": "code",
   "execution_count": null,
   "metadata": {},
   "outputs": [],
   "source": []
  },
  {
   "cell_type": "code",
   "execution_count": null,
   "metadata": {},
   "outputs": [],
   "source": []
  },
  {
   "cell_type": "code",
   "execution_count": 169,
   "metadata": {},
   "outputs": [],
   "source": []
  },
  {
   "cell_type": "code",
   "execution_count": null,
   "metadata": {},
   "outputs": [],
   "source": []
  },
  {
   "cell_type": "code",
   "execution_count": 34,
   "metadata": {},
   "outputs": [],
   "source": []
  },
  {
   "cell_type": "code",
   "execution_count": 230,
   "metadata": {},
   "outputs": [],
   "source": []
  },
  {
   "cell_type": "code",
   "execution_count": 231,
   "metadata": {},
   "outputs": [],
   "source": []
  },
  {
   "cell_type": "code",
   "execution_count": 232,
   "metadata": {},
   "outputs": [],
   "source": []
  },
  {
   "cell_type": "code",
   "execution_count": 233,
   "metadata": {},
   "outputs": [],
   "source": []
  },
  {
   "cell_type": "code",
   "execution_count": 234,
   "metadata": {},
   "outputs": [],
   "source": []
  },
  {
   "cell_type": "code",
   "execution_count": null,
   "metadata": {},
   "outputs": [],
   "source": []
  },
  {
   "cell_type": "code",
   "execution_count": 35,
   "metadata": {},
   "outputs": [
    {
     "name": "stdout",
     "output_type": "stream",
     "text": [
      "[(3, 'hi', '', \"[[323, 416, '*', (0, 0, 0)], [325, 378, '*', (0, 0, 0)], [313, 346, '*', (0, 0, 0)], [365, 244, '*', (0, 0, 0)], [367, 246, '*', (0, 0, 0)], [358, 248, '*', (0, 0, 0)], [347, 250, '*', (0, 0, 0)], [341, 252, '*', (0, 0, 0)], [337, 254, '*', (0, 0, 0)], [333, 252, '*', (0, 0, 0)], [329, 249, '*', (0, 0, 0)], [327, 244, '*', (0, 0, 0)], [325, 240, '*', (0, 0, 0)], [322, 236, '*', (0, 0, 0)], [319, 232, '*', (0, 0, 0)], [315, 226, '*', (0, 0, 0)], [313, 220, '*', (0, 0, 0)], [309, 212, '*', (0, 0, 0)], [305, 206, '*', (0, 0, 0)], [299, 198, '*', (0, 0, 0)], [293, 192, '*', (0, 0, 0)], [287, 184, '*', (0, 0, 0)], [281, 176, '*', (0, 0, 0)], [277, 172, '*', (0, 0, 0)], [271, 171, '*', (0, 0, 0)], [265, 170, '*', (0, 0, 0)], [258, 170, '*', (0, 0, 0)], [250, 170, '*', (0, 0, 0)], [243, 170, '*', (0, 0, 0)], [237, 171, '*', (0, 0, 0)], [232, 174, '*', (0, 0, 0)], [227, 178, '*', (0, 0, 0)], [224, 186, '*', (0, 0, 0)], [224, 196, '*', (0, 0, 0)], [222, 208, '*', (0, 0, 0)], [222, 218, '*', (0, 0, 0)], [220, 228, '*', (0, 0, 0)], [221, 240, '*', (0, 0, 0)], [223, 252, '*', (0, 0, 0)], [226, 264, '*', (0, 0, 0)], [229, 274, '*', (0, 0, 0)], [234, 282, '*', (0, 0, 0)], [240, 294, '*', (0, 0, 0)], [248, 303, '*', (0, 0, 0)], [255, 310, '*', (0, 0, 0)], [262, 315, '*', (0, 0, 0)], [271, 321, '*', (0, 0, 0)], [281, 325, '*', (0, 0, 0)], [298, 316, '*', (0, 0, 0)], [313, 290, '*', (0, 0, 0)], [309, 276, '*', (0, 0, 0)], [368, 364, '*', (0, 0, 91)], [362, 314, '*', (0, 0, 91)], [357, 284, '*', (0, 0, 91)], [350, 270, '*', (0, 0, 91)], [346, 248, '*', (0, 0, 91)], [344, 242, '*', (0, 0, 91)], [342, 235, '*', (0, 0, 91)], [339, 236, '*', (0, 0, 91)], [337, 236, '*', (0, 0, 91)], [336, 234, '*', (0, 0, 91)], [337, 228, '*', (0, 0, 91)], [339, 218, '*', (0, 0, 91)], [340, 206, '*', (0, 0, 91)], [340, 194, '*', (0, 0, 91)], [340, 184, '*', (0, 0, 91)], [340, 176, '*', (0, 0, 91)], [339, 164, '*', (0, 0, 91)], [335, 152, '*', (0, 0, 91)], [327, 140, '*', (0, 0, 91)], [320, 132, '*', (0, 0, 91)], [309, 126, '*', (0, 0, 91)], [297, 118, '*', (0, 0, 91)], [285, 112, '*', (0, 0, 91)], [271, 106, '*', (0, 0, 91)], [259, 102, '*', (0, 0, 91)], [247, 100, '*', (0, 0, 91)], [242, 104, '*', (0, 0, 91)]]\")]\n"
     ]
    }
   ],
   "source": [
    "cursor.execute(\"select * from project\")\n",
    "print(cursor.fetchall())"
   ]
  },
  {
   "cell_type": "code",
   "execution_count": 80,
   "metadata": {},
   "outputs": [
    {
     "name": "stdout",
     "output_type": "stream",
     "text": [
      "[18, 81, 146, 39, 222, 255]\n",
      "[63, 100, 109, 86, 202, 255]\n"
     ]
    }
   ],
   "source": [
    "print(pen)\n",
    "print(Eraser)"
   ]
  },
  {
   "cell_type": "code",
   "execution_count": null,
   "metadata": {},
   "outputs": [],
   "source": [
    "cursor"
   ]
  },
  {
   "cell_type": "code",
   "execution_count": 48,
   "metadata": {},
   "outputs": [
    {
     "data": {
      "text/plain": [
       "[]"
      ]
     },
     "execution_count": 48,
     "metadata": {},
     "output_type": "execute_result"
    }
   ],
   "source": [
    "myPoints"
   ]
  },
  {
   "cell_type": "code",
   "execution_count": null,
   "metadata": {},
   "outputs": [],
   "source": []
  },
  {
   "cell_type": "code",
   "execution_count": null,
   "metadata": {},
   "outputs": [],
   "source": []
  },
  {
   "cell_type": "code",
   "execution_count": null,
   "metadata": {},
   "outputs": [],
   "source": []
  },
  {
   "cell_type": "code",
   "execution_count": null,
   "metadata": {},
   "outputs": [],
   "source": []
  },
  {
   "cell_type": "code",
   "execution_count": null,
   "metadata": {},
   "outputs": [],
   "source": []
  },
  {
   "cell_type": "code",
   "execution_count": null,
   "metadata": {},
   "outputs": [],
   "source": []
  },
  {
   "cell_type": "code",
   "execution_count": null,
   "metadata": {},
   "outputs": [],
   "source": []
  },
  {
   "cell_type": "code",
   "execution_count": 19,
   "metadata": {},
   "outputs": [
    {
     "name": "stdout",
     "output_type": "stream",
     "text": [
      "[[0, 0, 0, 178, 255, 255]]\n"
     ]
    }
   ],
   "source": [
    "mycolors = []\n",
    "def empty_function(a):\n",
    "    pass\n",
    "\n",
    "\n",
    "def find_new_colours():\n",
    "    cap = cv2.VideoCapture(0)\n",
    "    cap.set(3,500)\n",
    "    cap.set(4,500)\n",
    "    cap.set(10,150)\n",
    "    \n",
    "    cv2.namedWindow(\"findcolour\")\n",
    "    cv2.resizeWindow(\"findcolur\",1000,1000)\n",
    "    cv2.createTrackbar(\"H_min\",\"findcolour\",0,178,empty_function)\n",
    "    cv2.createTrackbar(\"H_max\",\"findcolour\",178,178,empty_function)\n",
    "    cv2.createTrackbar(\"S_min\",\"findcolour\",0,255,empty_function)\n",
    "    cv2.createTrackbar(\"S_max\",\"findcolour\",255,255,empty_function)\n",
    "    cv2.createTrackbar(\"V_min\",\"findcolour\",0,255,empty_function)\n",
    "    cv2.createTrackbar(\"V_max\",\"findcolour\",255,255,empty_function)\n",
    "    \n",
    "    while True:\n",
    "        success,img = cap.read()\n",
    "        hsvimg = cv2.cvtColor(img,cv2.COLOR_BGR2HSV)\n",
    "        h_min = cv2.getTrackbarPos(\"H_min\",\"findcolour\")\n",
    "        h_max = cv2.getTrackbarPos(\"H_max\",\"findcolour\")\n",
    "        s_min = cv2.getTrackbarPos(\"S_min\",\"findcolour\")\n",
    "        s_max = cv2.getTrackbarPos(\"S_max\",\"findcolour\")\n",
    "        v_min = cv2.getTrackbarPos(\"V_min\",\"findcolour\")\n",
    "        v_max = cv2.getTrackbarPos(\"V_max\",\"findcolour\")\n",
    "        lower = np.array([h_min,s_min,v_min])\n",
    "        upper = np.array([h_max,s_max,v_max])\n",
    "        \n",
    "        mask = cv2.inRange(hsvimg,lower,upper)\n",
    "        \n",
    "        Result = cv2.bitwise_and(img,img,mask=mask)\n",
    "        \n",
    "        cv2.imshow(\"img\",img)\n",
    "        cv2.imshow(\"HSV\",hsvimg)\n",
    "        cv2.imshow(\"mask\",mask)\n",
    "        cv2.imshow(\"result\",Result)\n",
    "        \n",
    "        if cv2.waitKey(1) & 0xFF == ord('q'):\n",
    "            cap.release()\n",
    "            cv2.destroyAllWindows()\n",
    "            return [h_min,s_min,v_min,h_max,s_max,v_max]\n",
    "            break\n",
    "\n",
    "    \n",
    "new_colour=find_new_colours()\n",
    "mycolors.append(new_colour)\n",
    "print(mycolors)"
   ]
  },
  {
   "cell_type": "code",
   "execution_count": 20,
   "metadata": {},
   "outputs": [
    {
     "data": {
      "text/plain": [
       "[]"
      ]
     },
     "execution_count": 20,
     "metadata": {},
     "output_type": "execute_result"
    }
   ],
   "source": [
    "myPoints"
   ]
  },
  {
   "cell_type": "code",
   "execution_count": 45,
   "metadata": {},
   "outputs": [],
   "source": [
    "a = [{1:[1,2,3,4,5,6,7,8,9]}]"
   ]
  },
  {
   "cell_type": "code",
   "execution_count": 46,
   "metadata": {},
   "outputs": [],
   "source": [
    "import csv"
   ]
  },
  {
   "cell_type": "code",
   "execution_count": 47,
   "metadata": {},
   "outputs": [],
   "source": [
    "file = open('p1.csv','w+',newline='')\n",
    "with file:\n",
    "    write = csv.writer(file)\n",
    "    write.writerows(a)"
   ]
  },
  {
   "cell_type": "code",
   "execution_count": 48,
   "metadata": {},
   "outputs": [],
   "source": [
    "import pandas as pd"
   ]
  },
  {
   "cell_type": "code",
   "execution_count": 49,
   "metadata": {},
   "outputs": [],
   "source": [
    "data = pd.read_csv(\"p1.csv\")"
   ]
  },
  {
   "cell_type": "code",
   "execution_count": 50,
   "metadata": {},
   "outputs": [
    {
     "data": {
      "text/html": [
       "<div>\n",
       "<style scoped>\n",
       "    .dataframe tbody tr th:only-of-type {\n",
       "        vertical-align: middle;\n",
       "    }\n",
       "\n",
       "    .dataframe tbody tr th {\n",
       "        vertical-align: top;\n",
       "    }\n",
       "\n",
       "    .dataframe thead th {\n",
       "        text-align: right;\n",
       "    }\n",
       "</style>\n",
       "<table border=\"1\" class=\"dataframe\">\n",
       "  <thead>\n",
       "    <tr style=\"text-align: right;\">\n",
       "      <th></th>\n",
       "      <th>1</th>\n",
       "    </tr>\n",
       "  </thead>\n",
       "  <tbody>\n",
       "  </tbody>\n",
       "</table>\n",
       "</div>"
      ],
      "text/plain": [
       "Empty DataFrame\n",
       "Columns: [1]\n",
       "Index: []"
      ]
     },
     "execution_count": 50,
     "metadata": {},
     "output_type": "execute_result"
    }
   ],
   "source": [
    "data"
   ]
  },
  {
   "cell_type": "code",
   "execution_count": 51,
   "metadata": {},
   "outputs": [
    {
     "data": {
      "text/plain": [
       "Series([], Name: 1, dtype: object)"
      ]
     },
     "execution_count": 51,
     "metadata": {},
     "output_type": "execute_result"
    }
   ],
   "source": [
    "data[\"1\"]"
   ]
  },
  {
   "cell_type": "code",
   "execution_count": 52,
   "metadata": {},
   "outputs": [],
   "source": [
    "i = data"
   ]
  },
  {
   "cell_type": "code",
   "execution_count": 53,
   "metadata": {},
   "outputs": [],
   "source": [
    "i = list(i)\n"
   ]
  },
  {
   "cell_type": "code",
   "execution_count": 54,
   "metadata": {},
   "outputs": [
    {
     "data": {
      "text/plain": [
       "['1']"
      ]
     },
     "execution_count": 54,
     "metadata": {},
     "output_type": "execute_result"
    }
   ],
   "source": [
    "i"
   ]
  },
  {
   "cell_type": "code",
   "execution_count": null,
   "metadata": {},
   "outputs": [],
   "source": []
  }
 ],
 "metadata": {
  "kernelspec": {
   "display_name": "Python 3",
   "language": "python",
   "name": "python3"
  },
  "language_info": {
   "codemirror_mode": {
    "name": "ipython",
    "version": 3
   },
   "file_extension": ".py",
   "mimetype": "text/x-python",
   "name": "python",
   "nbconvert_exporter": "python",
   "pygments_lexer": "ipython3",
   "version": "3.7.4"
  }
 },
 "nbformat": 4,
 "nbformat_minor": 4
}
